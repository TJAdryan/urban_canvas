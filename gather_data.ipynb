{
 "cells": [
  {
   "cell_type": "code",
   "execution_count": null,
   "id": "a4c79381-5faa-49bf-b5c9-54fe4a0d75e5",
   "metadata": {},
   "outputs": [],
   "source": [
    "import pandas as pd\n",
    "import geopandas as gpd\n",
    "import matplotlib.pyplot as plt\n",
    "\n",
    "# Load the geospatial data (the map of census tracts)\n",
    "# Make sure the path to your shapefile is correct.\n",
    "gdf = gpd.read_file('path/to/your/census_tracts.shp')\n",
    "\n",
    "# Load your census CSV data\n",
    "df = pd.read_csv('path/to/your/income_data.csv')\n",
    "\n",
    "# --- Data Cleaning ---\n",
    "# Your CSVs will need cleaning. The exact steps depend on their format.\n",
    "# The goal is to have columns like 'tract_id', 'income_2010', 'income_2020'.\n",
    "# For example, you might need to rename columns and convert them to numbers.\n",
    "\n",
    "# --- Merge the datasets ---\n",
    "# Merge the map (gdf) with your data (df) on the census tract ID.\n",
    "# The column name for the tract ID must match in both files (e.g., 'TRACTCE' or 'GEOID').\n",
    "merged_gdf = gdf.merge(df, on='GEOID')\n",
    "\n",
    "# --- Calculate the change ---\n",
    "merged_gdf['income_change'] = ((merged_gdf['income_2020'] - merged_gdf['income_2010']) / merged_gdf['income_2010']) * 100\n",
    "\n",
    "# --- Create the Map ---\n",
    "fig, ax = plt.subplots(1, 1, figsize=(15, 15))\n",
    "\n",
    "merged_gdf.plot(column='income_change',\n",
    "                ax=ax,\n",
    "                legend=True,\n",
    "                legend_kwds={'label': \"Percentage Change in Median Income\",\n",
    "                             'orientation': \"horizontal\"})\n",
    "\n",
    "plt.title(\"Median Income Change in Brooklyn (2010-2020)\")\n",
    "ax.set_axis_off()\n",
    "plt.show()"
   ]
  }
 ],
 "metadata": {
  "kernelspec": {
   "display_name": "Python 3 (ipykernel)",
   "language": "python",
   "name": "python3"
  },
  "language_info": {
   "codemirror_mode": {
    "name": "ipython",
    "version": 3
   },
   "file_extension": ".py",
   "mimetype": "text/x-python",
   "name": "python",
   "nbconvert_exporter": "python",
   "pygments_lexer": "ipython3",
   "version": "3.12.11"
  }
 },
 "nbformat": 4,
 "nbformat_minor": 5
}
